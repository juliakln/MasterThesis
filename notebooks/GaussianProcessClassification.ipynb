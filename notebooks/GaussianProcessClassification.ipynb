{
 "cells": [
  {
   "cell_type": "markdown",
   "metadata": {},
   "source": [
    "https://nbviewer.org/github/krasserm/bayesian-machine-learning/blob/dev/gaussian-processes/gaussian_processes_classification.ipynb"
   ]
  },
  {
   "cell_type": "code",
   "execution_count": 2,
   "metadata": {},
   "outputs": [],
   "source": [
    "import numpy as np\n",
    "import matplotlib.pyplot as plt\n",
    "\n",
    "from scipy.optimize import minimize\n",
    "from scipy.stats import bernoulli\n",
    "from scipy.special import expit as sigmoid\n",
    "\n",
    "from sklearn.datasets import make_moons\n",
    "from sklearn.gaussian_process import GaussianProcessClassifier\n",
    "from sklearn.gaussian_process.kernels import ConstantKernel, RBF\n",
    "\n",
    "%matplotlib inline"
   ]
  },
  {
   "cell_type": "markdown",
   "metadata": {},
   "source": [
    "Start with simple 1D training dataset where logits a are given by a sine function. Target values t are sampled from a corresponding Bernoulli distribution (assume that training data are correctly labeled)."
   ]
  },
  {
   "cell_type": "code",
   "execution_count": 37,
   "metadata": {},
   "outputs": [
    {
     "data": {
      "text/plain": [
       "<matplotlib.collections.PathCollection at 0x248c1fbeac8>"
      ]
     },
     "execution_count": 37,
     "metadata": {},
     "output_type": "execute_result"
    },
    {
     "data": {
      "image/png": "[encoded data removed]",
      "text/plain": [
       "<Figure size 432x288 with 1 Axes>"
      ]
     },
     "metadata": {
      "needs_background": "light"
     },
     "output_type": "display_data"
    }
   ],
   "source": [
    "np.random.seed(0)\n",
    "\n",
    "# training X, test X_test\n",
    "X = np.arange(0, 5, 0.2).reshape(-1, 1)\n",
    "X_test = np.arange(-2, 7, 0.1).reshape(-1, 1)\n",
    "\n",
    "# logits a, corresponding Bernoulli t\n",
    "a = np.sin(X * np.pi * 0.5) * 2\n",
    "t = bernoulli.rvs(sigmoid(a))\n",
    "\n",
    "# plot data\n",
    "plt.scatter(X[t == 0], t[t == 0], marker='o', c='blue')\n",
    "plt.scatter(X[t == 1], t[t == 1], marker='x', c='red')\n",
    "plt.title('1D training dataset')\n",
    "plt.xlabel('$x$')\n",
    "plt.ylabel('$t$')\n",
    "plt.yticks([0, 1])\n",
    "\n",
    "plt.scatter(X, a, marker='^', c='green')"
   ]
  },
  {
   "cell_type": "markdown",
   "metadata": {},
   "source": [
    "Kernel: squared exponential with lengthscale theta[0] and mulitplicative constant theta[1]"
   ]
  },
  {
   "cell_type": "code",
   "execution_count": 27,
   "metadata": {},
   "outputs": [],
   "source": [
    "def kernel(X1, X2, theta):\n",
    "    \"\"\"\n",
    "    Isotropic squared exponential kernel.\n",
    "\n",
    "    Args:\n",
    "        X1: Array of m points (m x d).\n",
    "        X2: Array of n points (n x d).\n",
    "        theta: Kernel parameters\n",
    "\n",
    "    Returns:\n",
    "        (m x n) matrix\n",
    "    \"\"\"\n",
    "\n",
    "    sqdist = np.sum(X1 ** 2, 1).reshape(-1, 1) + np.sum(X2 ** 2, 1) - 2 * np.dot(X1, X2.T)\n",
    "    return theta[1] ** 2 * np.exp(-0.5 / theta[0] ** 2 * sqdist)"
   ]
  },
  {
   "cell_type": "markdown",
   "metadata": {},
   "source": [
    "Helpers for matrix multiplications"
   ]
  },
  {
   "cell_type": "code",
   "execution_count": 28,
   "metadata": {},
   "outputs": [],
   "source": [
    "def K_(X, theta, diag_only=False, nu=1e-5):\n",
    "    \"\"\"Helper to apply kernel function.\"\"\"\n",
    "    if diag_only:\n",
    "        # Specific solution for isotropic \n",
    "        # squared exponential kernel.\n",
    "        return theta[1] ** 2 + nu\n",
    "    else:\n",
    "        return kernel(X, X, theta) + nu * np.eye(X.shape[0])\n",
    "\n",
    "def W_(a):\n",
    "    \"\"\"Helper to compute matrix W.\"\"\"\n",
    "    r = sigmoid(a) * (1 - sigmoid(a))\n",
    "    return np.diag(r.ravel())"
   ]
  },
  {
   "cell_type": "markdown",
   "metadata": {},
   "source": [
    "Implement Eq. 9 (update a) and return mode a^ of posterior p(a|t)"
   ]
  },
  {
   "cell_type": "code",
   "execution_count": 29,
   "metadata": {},
   "outputs": [],
   "source": [
    "def posterior_mode(X, t, K_a, max_iter=10, tol=1e-9):\n",
    "    \"\"\"\n",
    "    Computes the mode of posterior p(a|t).\n",
    "    \"\"\"\n",
    "    a_h = np.zeros_like(t)\n",
    "    I = np.eye(X.shape[0])\n",
    "\n",
    "    for i in range(max_iter):\n",
    "        W = W_(a_h)\n",
    "        Q_inv = np.linalg.inv(I + W @ K_a)\n",
    "        a_h_new = (K_a @ Q_inv).dot(t - sigmoid(a_h) + W.dot(a_h))\n",
    "        a_h_diff = np.abs(a_h_new - a_h)\n",
    "        a_h = a_h_new\n",
    "\n",
    "        if not np.any(a_h_diff > tol):\n",
    "            break\n",
    "\n",
    "    return a_h"
   ]
  },
  {
   "cell_type": "markdown",
   "metadata": {},
   "source": [
    "Negative log likelihood for hyperparameters, implements Eq. 14"
   ]
  },
  {
   "cell_type": "code",
   "execution_count": 30,
   "metadata": {},
   "outputs": [],
   "source": [
    "def nll_fn(X, t):\n",
    "    \"\"\"\n",
    "    Returns the negative log-likelihood function for data X, t.\n",
    "    \"\"\"\n",
    "    \n",
    "    t = t.ravel()\n",
    "\n",
    "    def nll(theta):\n",
    "        K_a = K_(X, theta)\n",
    "        K_a_inv = np.linalg.inv(K_a)\n",
    "\n",
    "        # posterior mode depends on theta (via K)\n",
    "        a_h = posterior_mode(X, t, K_a).ravel()\n",
    "        W = W_(a_h)\n",
    "\n",
    "        ll = - 0.5 * a_h.T.dot(K_a_inv).dot(a_h) \\\n",
    "             - 0.5 * np.linalg.slogdet(K_a)[1] \\\n",
    "             - 0.5 * np.linalg.slogdet(W + K_a_inv)[1] \\\n",
    "             + t.dot(a_h) - np.sum(np.log(1.0 + np.exp(a_h)))\n",
    "\n",
    "        return -ll\n",
    "\n",
    "    return nll"
   ]
  },
  {
   "cell_type": "code",
   "execution_count": 31,
   "metadata": {},
   "outputs": [
    {
     "name": "stdout",
     "output_type": "stream",
     "text": [
      "Optimized theta = [0.715, 0.836], negative log likelihood = 17.002\n"
     ]
    }
   ],
   "source": [
    "res = minimize(nll_fn(X, t), [1, 1],\n",
    "               bounds=((1e-3, None), (1e-3, None)),\n",
    "               method='L-BFGS-B')\n",
    "\n",
    "theta = res.x\n",
    "\n",
    "print(f'Optimized theta = [{theta[0]:.3f}, {theta[1]:.3f}], negative log likelihood = {res.fun:.3f}')"
   ]
  },
  {
   "cell_type": "markdown",
   "metadata": {},
   "source": [
    "predict_pt implements approximation (13) and computes class 1 probablities at inputs X_test given training data X and t. predict_a implements approximation (10) and computes the mean μa∗ and variance σ2a∗ of logits at inputs X_test.\n"
   ]
  },
  {
   "cell_type": "code",
   "execution_count": 34,
   "metadata": {},
   "outputs": [],
   "source": [
    "def predict_a(X_test, X, t, theta):\n",
    "    \"\"\"\n",
    "    Computes the mean and variance of logits at points X_test\n",
    "    given training data X, t and kernel parameters theta.\n",
    "    \"\"\"\n",
    "    K_a = K_(X, theta)\n",
    "    K_s = kernel(X, X_test, theta)\n",
    "    a_h = posterior_mode(X, t, K_a)\n",
    "\n",
    "    W_inv = np.linalg.inv(W_(a_h))\n",
    "    R_inv = np.linalg.inv(W_inv + K_a)\n",
    "\n",
    "    a_test_mu = K_s.T.dot(t - sigmoid(a_h))\n",
    "    # Compute variances only (= diagonal) instead of full covariance matrix\n",
    "    a_test_var = K_(X_test, theta, diag_only=True) - np.sum((R_inv @ K_s) * K_s, axis=0).reshape(-1, 1)\n",
    "\n",
    "    return a_test_mu, a_test_var\n",
    "\n",
    "\n",
    "def predict_pt(X_test, X, t, theta):\n",
    "    \"\"\"\n",
    "    Computes the probability of t=1 at points X_test\n",
    "    given training data X, t and kernel parameters theta.\n",
    "    \"\"\"\n",
    "    a_mu, a_var = predict_a(X_test, X, t, theta)\n",
    "    kappa = 1.0 / np.sqrt(1.0 + np.pi * a_var / 8)\n",
    "    return sigmoid(kappa * a_mu)"
   ]
  },
  {
   "cell_type": "markdown",
   "metadata": {},
   "source": [
    "Computing class 1 probabilities at X_test gives the following output (green line), shown in context of the training data. The black dotted line represents the decision boundary at p(t∗=1∣t)=0.5."
   ]
  },
  {
   "cell_type": "code",
   "execution_count": 35,
   "metadata": {},
   "outputs": [
    {
     "data": {
      "image/png": "[encoded data removed]",
      "text/plain": [
       "<Figure size 432x288 with 1 Axes>"
      ]
     },
     "metadata": {
      "needs_background": "light"
     },
     "output_type": "display_data"
    }
   ],
   "source": [
    "pt_test = predict_pt(X_test, X, t, theta)\n",
    "\n",
    "plt.scatter(X[t == 0], t[t == 0], marker='o', c='blue')\n",
    "plt.scatter(X[t == 1], t[t == 1], marker='x', c='red')\n",
    "plt.plot(X_test, pt_test, label='Prediction', color='green')\n",
    "plt.axhline(0.5, X_test.min(), X_test.max(), color='black', ls='--', lw=0.5)\n",
    "plt.title('Predicted class 1 probabilities')\n",
    "plt.xlabel('$x$')\n",
    "plt.ylabel('$p(t_*=1|\\mathbf{t})$')\n",
    "plt.legend();"
   ]
  }
 ],
 "metadata": {
  "kernelspec": {
   "display_name": "Python 3",
   "language": "python",
   "name": "python3"
  },
  "language_info": {
   "codemirror_mode": {
    "name": "ipython",
    "version": 3
   },
   "file_extension": ".py",
   "mimetype": "text/x-python",
   "name": "python",
   "nbconvert_exporter": "python",
   "pygments_lexer": "ipython3",
   "version": "3.7.4"
  }
 },
 "nbformat": 4,
 "nbformat_minor": 2
}
